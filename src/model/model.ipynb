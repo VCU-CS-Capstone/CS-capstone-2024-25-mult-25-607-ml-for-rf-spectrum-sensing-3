{
 "cells": [
  {
   "cell_type": "code",
   "execution_count": 22,
   "metadata": {},
   "outputs": [],
   "source": [
    "import numpy as np\n",
    "import torch\n",
    "from scipy import signal\n",
    "from torch.utils.data import Dataset, DataLoader\n",
    "import sys\n",
    "import os"
   ]
  },
  {
   "cell_type": "code",
   "execution_count": null,
   "metadata": {},
   "outputs": [
    {
     "name": "stdout",
     "output_type": "stream",
     "text": [
      "./data/dataset/data_0.npy\n"
     ]
    }
   ],
   "source": [
    "import json\n",
    "\n",
    "\n",
    "def interleaved_to_complex(source_data):\n",
    "    \"\"\"\n",
    "    Convert interleaved IQ data to complex numbers\n",
    "    \"\"\"\n",
    "    source_data = np.array(source_data)\n",
    "    source_data = source_data / 32768\n",
    "    source_data = source_data.astype(np.float32).view(np.complex64)\n",
    "    return source_data\n",
    "\n",
    "\n",
    "def iq_to_psd(iq_data, num_fft, sample_rate):\n",
    "    \"\"\"\n",
    "    # Compute the PSD of the input IQ data\n",
    "    \"\"\"\n",
    "    psd, freq = signal.welch(iq_data, fs=sample_rate, nperseg=num_fft)\n",
    "    return psd\n",
    "\n",
    "\n",
    "def read_labels(file_path):\n",
    "    \"\"\"\n",
    "    # Converts and returns a json file with the key as the index and the value as the label\n",
    "    \"\"\"\n",
    "    with open(file_path, \"r\") as f:\n",
    "        labels = json.load(f)\n",
    "    labels = {int(key): value for key, value in labels.items()}\n",
    "    return labels\n",
    "\n",
    "def read_json(file_path):\n",
    "    with open(file_path, \"r\") as f:\n",
    "        data = json.load(f)\n",
    "    return data\n",
    "\n",
    "class psd_dataset(Dataset):\n",
    "    def __init__(self, data_directory, labels, config):\n",
    "        self.labels = read_labels(labels)\n",
    "        self.data_directory = data_directory\n",
    "        self.config = read_json(config)\n",
    "\n",
    "    def __len__(self):\n",
    "        return len(self.data)\n",
    "\n",
    "    def __getitem__(self, idx):\n",
    "        data_path = os.path.join(self.data_directory, f\"data_{idx}.npy\")\n",
    "        data = np.load(data_path)\n",
    "        iq_to_psd(data, self.config[\"num_fft\"], self.config[\"sample_rate\"])\n",
    "        label = self.labels[idx]\n",
    "        return data, label\n",
    "\n"
   ]
  },
  {
   "cell_type": "code",
   "execution_count": null,
   "metadata": {},
   "outputs": [],
   "source": []
  }
 ],
 "metadata": {
  "kernelspec": {
   "display_name": ".venv",
   "language": "python",
   "name": "python3"
  },
  "language_info": {
   "codemirror_mode": {
    "name": "ipython",
    "version": 3
   },
   "file_extension": ".py",
   "mimetype": "text/x-python",
   "name": "python",
   "nbconvert_exporter": "python",
   "pygments_lexer": "ipython3",
   "version": "3.12.3"
  }
 },
 "nbformat": 4,
 "nbformat_minor": 2
}
