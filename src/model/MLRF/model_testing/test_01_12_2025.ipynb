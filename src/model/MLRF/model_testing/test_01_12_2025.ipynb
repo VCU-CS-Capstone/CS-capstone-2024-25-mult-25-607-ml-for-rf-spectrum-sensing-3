{
 "cells": [
  {
   "cell_type": "code",
   "execution_count": 18,
   "metadata": {},
   "outputs": [
    {
     "name": "stderr",
     "output_type": "stream",
     "text": [
      "/tmp/ipykernel_84767/2392568250.py:46: FutureWarning: You are using `torch.load` with `weights_only=False` (the current default value), which uses the default pickle module implicitly. It is possible to construct malicious pickle data which will execute arbitrary code during unpickling (See https://github.com/pytorch/pytorch/blob/main/SECURITY.md#untrusted-models for more details). In a future release, the default value for `weights_only` will be flipped to `True`. This limits the functions that could be executed during unpickling. Arbitrary objects will no longer be allowed to be loaded via this mode unless they are explicitly allowlisted by the user via `torch.serialization.add_safe_globals`. We recommend you start setting `weights_only=True` for any use case where you don't have full control of the loaded file. Please open an issue on GitHub for any issues related to this experimental feature.\n",
      "  model = torch.load(\"model.pth\")\n"
     ]
    },
    {
     "name": "stdout",
     "output_type": "stream",
     "text": [
      "\n",
      "Classification Summary:\n",
      "Total files processed: 565\n",
      "Bluetooth devices detected: 0 (0.00%)\n",
      "WiFi devices detected: 565 (100.00%)\n"
     ]
    }
   ],
   "source": [
    "import os\n",
    "import numpy as np\n",
    "import torch\n",
    "from tqdm import tqdm\n",
    "from torch import nn\n",
    "\n",
    "class NeuralNetwork(nn.Module):\n",
    "    def __init__(self):\n",
    "        super(NeuralNetwork, self).__init__()\n",
    "        # Input shape: (16, 1, 2048)\n",
    "        self.conv1 = nn.Conv1d(\n",
    "            in_channels=1, out_channels=16, kernel_size=3, stride=1, padding=1\n",
    "        )\n",
    "        self.conv2 = nn.Conv1d(\n",
    "            in_channels=16, out_channels=32, kernel_size=3, stride=1, padding=1\n",
    "        )\n",
    "        self.conv3 = nn.Conv1d(\n",
    "            in_channels=32, out_channels=64, kernel_size=3, stride=1, padding=1\n",
    "        )\n",
    "        self.pool = nn.MaxPool1d(kernel_size=2, stride=2, padding=0)\n",
    "        self.flatten = nn.Flatten()\n",
    "        self.fc1 = nn.Linear(\n",
    "            64 * 256, 128\n",
    "        )  # 2048 -> 1024 -> 512 -> 256 after 3 pooling layers\n",
    "        self.fc2 = nn.Linear(128, 2)\n",
    "        self.relu = nn.ReLU()\n",
    "\n",
    "    def forward(self, x):\n",
    "\n",
    "        if len(x.shape) == 2:\n",
    "            x = x.unsqueeze(1)\n",
    "\n",
    "        # Convolutional layers with pooling\n",
    "        x = self.pool(self.relu(self.conv1(x)))  # Output: (16, 16, 1024)\n",
    "        x = self.pool(self.relu(self.conv2(x)))  # Output: (16, 32, 512)\n",
    "        x = self.pool(self.relu(self.conv3(x)))  # Output: (16, 64, 256)\n",
    "\n",
    "        # Flatten and fully connected layers\n",
    "        x = self.flatten(x)  # Output: (16, 64 * 256)\n",
    "        x = self.relu(self.fc1(x))  # Output: (16, 128)\n",
    "        x = self.fc2(x)  # Output: (16, 2)\n",
    "\n",
    "        return x\n",
    "\n",
    "\n",
    "model = torch.load(\"model.pth\")\n",
    "model.eval()\n",
    "total_files = 0\n",
    "bt_count = 0\n",
    "\n",
    "with torch.no_grad():\n",
    "    for filename in os.listdir(directory):\n",
    "        if filename.endswith(\".npy\"):\n",
    "            total_files += 1\n",
    "            input_data = np.load(os.path.join(directory, filename))\n",
    "            input_data = torch.tensor(input_data, dtype=torch.float32)\n",
    "            input_data = input_data.unsqueeze(0).unsqueeze(0)\n",
    "            output = model(input_data.cuda())\n",
    "            predicted_class = torch.argmax(output).item()\n",
    "            if predicted_class == 1:\n",
    "                bt_count += 1\n",
    "                print(f\"{filename} was classified as a BT\")\n",
    "\n",
    "bt_percentage = (bt_count / total_files) * 100\n",
    "wifi_percentage = ((total_files - bt_count) / total_files) * 100\n",
    "\n",
    "print(f\"\\nClassification Summary:\")\n",
    "print(f\"Total files processed: {total_files}\")\n",
    "print(f\"Bluetooth devices detected: {bt_count} ({bt_percentage:.2f}%)\")\n",
    "print(f\"WiFi devices detected: {total_files - bt_count} ({wifi_percentage:.2f}%)\")"
   ]
  }
 ],
 "metadata": {
  "kernelspec": {
   "display_name": ".venv",
   "language": "python",
   "name": "python3"
  },
  "language_info": {
   "codemirror_mode": {
    "name": "ipython",
    "version": 3
   },
   "file_extension": ".py",
   "mimetype": "text/x-python",
   "name": "python",
   "nbconvert_exporter": "python",
   "pygments_lexer": "ipython3",
   "version": "3.12.3"
  }
 },
 "nbformat": 4,
 "nbformat_minor": 2
}
